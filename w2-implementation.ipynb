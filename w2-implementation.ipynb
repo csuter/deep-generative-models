{
 "cells": [
  {
   "cell_type": "markdown",
   "metadata": {},
   "source": [
    "# VI vs. BBVI\n",
    "\n",
    "Following Bishop (chapter 10.1.3), we fit a simple model via variational inference. \n",
    "\n",
    "We assume $N$ observations $x$ that are normally distributed with mean $\\mu$ and precision $\\tau$. We assume that $\\mu$ and $\\tau$ have conjugate priors, i.e.:\n",
    "\n",
    "$$\\tau \\sim \\text{Gam}(\\tau|a_0, b_0)$$\n",
    "$$\\mu \\sim N(\\mu_0, (\\gamma_0\\tau)^{-1})$$\n",
    "\n",
    "This is a four parameter Gaussian-Gamma conjugate prior distribution.\n",
    "\n",
    "Consider a factorized posterior for our unknown variables $\\mu$, $\\tau$:\n",
    "\n",
    "$$q(\\mu, \\tau) = q_\\mu(\\mu)q_\\tau(\\tau)$$\n",
    "\n",
    "Here the q's each contain two variational parameters that we need to estimate (four $\\lambda$ parameters total).\n",
    "\n",
    "Bishop shows us how to turn the crank on this model using closed-form VI. As it turns out, the optimal q's are also of the same family. Closed-forms solution are feasible (although this is by no means easy in the general case). \n",
    "\n",
    "Let's do this via BBVI instead.\n",
    "\n",
    "Let's start with the vanilla form of BBVI (eq. 3, [Ranganath et al. (2014)](http://www.cs.columbia.edu/~blei/papers/RanganathGerrishBlei2014.pdf)).\n",
    "\n",
    "We have that:\n",
    "\n",
    "![equation 3](./w2-assets/eq3.png)\n",
    "\n",
    "So now we need only turn the crank:\n",
    "\n",
    "![algebra page 1](./w2-assets/algebra-page1.jpg)\n",
    "![algebra page 2](./w2-assets/algebra-page2.jpg)\n",
    "\n",
    "Note that the variational parameters are denoted with bars, such that $\\lambda = \\{\\bar \\mu, \\bar \\sigma, \\bar a, \\bar b\\}$. Let's try variational updates on these parameters:\n"
   ]
  },
  {
   "cell_type": "code",
   "execution_count": 84,
   "metadata": {},
   "outputs": [],
   "source": [
    "# Let's start easy.\n",
    "%matplotlib inline\n",
    "import numpy as np\n",
    "import scipy.special\n",
    "import matplotlib.pyplot as plt\n"
   ]
  },
  {
   "cell_type": "code",
   "execution_count": 45,
   "metadata": {},
   "outputs": [
    {
     "name": "stdout",
     "output_type": "stream",
     "text": [
      "[-0.015212947932282448, 0.7329263623634485]\n",
      "[0, 0.784960358918845]\n"
     ]
    }
   ],
   "source": [
    "a0 = 1\n",
    "b0 = 1\n",
    "gamma0 = 1\n",
    "mu0 = 0\n",
    "\n",
    "N_samples = 100\n",
    "S = 5\n",
    "\n",
    "def get_forward_samples(params, N_samples):\n",
    "    mu0, gamma0, a0, b0 = params\n",
    "    theta0 = 1/b0\n",
    "    # Numpy uses an annoying shape/scale parametrization of the gamma distribution.\n",
    "    tau = np.random.gamma(a0, theta0)\n",
    "    return (np.random.normal(mu0, 1/(gamma0*tau), N_samples), mu0, tau)\n",
    "\n",
    "x, true_mu, true_tau = get_forward_samples((mu0, gamma0, a0, b0), N_samples)\n",
    "print([x.mean(), x.std()])\n",
    "print([true_mu, 1/true_tau])"
   ]
  },
  {
   "cell_type": "code",
   "execution_count": null,
   "metadata": {},
   "outputs": [],
   "source": [
    "def eval_logQ(z, vparams):\n",
    "    mu, tau = z\n",
    "    mu_bar, sigma_bar, a_bar, b_bar = vparams\n",
    "    ll_normal = -1/2*np.log(2*np.pi*sigma_bar**2) - 1/2/sigma_bar**2 * (mu - mu_bar)**2\n",
    "    ll_gamma = a_bar*np.log(b_bar) - scipy.special.gammaln(a_bar) + (a_bar - 1)*np.log(tau) - b_bar*tau\n",
    "    return ll_normal + ll_gamma\n",
    "\n",
    "def sample_q(vparams):\n",
    "    mu_bar, sigma_bar, a_bar, b_bar = vparams\n",
    "    return np.random.normal(mu_bar, sigma_bar), np.random.gamma(a_bar, 1/b_bar)\n",
    "\n",
    "def elbo(x, vparams, N_samples):\n",
    "    mu_bar, sigma_bar, a_bar, b_bar = vparams\n",
    "    \n",
    "    Ls = []\n",
    "    for i in range(N_samples):\n",
    "        # Sample from q at random.\n",
    "        mu, tau = sample_q(vparams)\n",
    "        log_pxz = -1/2*x.size*np.log(2*np.pi*(gamma0*tau)**-(2)) - ((gamma0*tau)**2/2*(x - mu)**2).sum()\n",
    "        Ls.append(log_pxz + eval_logQ((mu, tau), vparams))\n",
    "    \n",
    "    return np.array(Ls).mean()\n",
    "\n",
    "mus = np.linspace(-3, 3, 100)\n",
    "elbos = []\n",
    "for mu in mus:\n",
    "    elbos.append(elbo(x, (mu, 1, 1, 1), 10000))"
   ]
  },
  {
   "cell_type": "code",
   "execution_count": 147,
   "metadata": {},
   "outputs": [
    {
     "data": {
      "image/png": "[encoded data removed]",
      "text/plain": [
       "<Figure size 432x288 with 1 Axes>"
      ]
     },
     "metadata": {},
     "output_type": "display_data"
    }
   ],
   "source": [
    "plt.plot(mus, np.array(elbos), '.')\n",
    "ylim = plt.ylim()\n",
    "plt.plot([x.mean(), x.mean()], ylim, 'k-')\n",
    "plt.ylim(ylim)\n",
    "plt.xlabel('value of $\\\\bar \\\\mu$')\n",
    "plt.ylabel('ELBO')\n",
    "plt.title('ELBO as a function of $\\\\bar \\\\mu$ (variational param)')\n",
    "plt.box(False)"
   ]
  },
  {
   "cell_type": "markdown",
   "metadata": {},
   "source": [
    "Our ELBO looks pretty reasonable - it's higher when the value of the variational parameter $\\bar \\mu$ is close to the empirical mean of the samples (all else being equal). "
   ]
  }
 ],
 "metadata": {
  "kernelspec": {
   "display_name": "Python 3",
   "language": "python",
   "name": "python3"
  },
  "language_info": {
   "codemirror_mode": {
    "name": "ipython",
    "version": 3
   },
   "file_extension": ".py",
   "mimetype": "text/x-python",
   "name": "python",
   "nbconvert_exporter": "python",
   "pygments_lexer": "ipython3",
   "version": "3.5.2"
  }
 },
 "nbformat": 4,
 "nbformat_minor": 2
}
