{
 "cells": [
  {
   "cell_type": "markdown",
   "metadata": {},
   "source": [
    "# Notes on VAEs\n",
    "\n",
    "https://arxiv.org/pdf/1606.05908.pdf\n",
    "\n",
    "Our goal is to maximize the probability of X, the distribution:\n",
    "\n",
    "$$p(X) = \\int p(X|z; \\theta) p(z) dz$$\n",
    "\n",
    "Here the $z's$ are latent variables. \n",
    "\n",
    "Typically, we choose the noise model to be gaussian, although it doesn't matter too much:\n",
    "\n",
    "$$p(X|z;\\theta) = N(X|f(z;\\theta),\\sigma^2 I)$$\n",
    "\n",
    "If we try to maximize the probability of the data directly via Monte Carlo, by sampling from $p(z)$, this would take forever. Instead we try to maximze:\n",
    "\n",
    "$$\\mathbb{E}_{z \\sim Q} p(X|z)$$\n",
    "\n",
    "The function $Q(z|X)$ is a distribution which approximates $p(z|X)$. Typically, we assume that $Q{z|X}$ is also Gaussian. We're trying to match this to $p(z|X)$, the distribution of latent variables that could have generated some examplars.\n",
    "\n",
    "Thus, we try to maximize the quantity:\n",
    "\n",
    "$$\\mathbb{E}_{x\\sim D}[\\log p(X) - D_{KL}[Q(z|X)||p(z|X)]]$$\n",
    "\n",
    "Turning the crank, we find that this is equal to:\n",
    "\n",
    "$$\\mathbb{E}_{x\\sim D}[\\mathbb{E}_{z\\sim Z}[\\log p(X|z)] - D_{KL}[Q(z|X)||p(z)]]$$\n",
    "\n",
    "Which is something we can definitely compute a gradient for.\n",
    "\n",
    "Next steps:\n",
    "\n",
    "  * Implement with PyTorch distributions.\n",
    "  * How do you add structure to this"
   ]
  },
  {
   "cell_type": "code",
   "execution_count": null,
   "metadata": {},
   "outputs": [],
   "source": []
  }
 ],
 "metadata": {
  "kernelspec": {
   "display_name": "Python 3",
   "language": "python",
   "name": "python3"
  },
  "language_info": {
   "codemirror_mode": {
    "name": "ipython",
    "version": 3
   },
   "file_extension": ".py",
   "mimetype": "text/x-python",
   "name": "python",
   "nbconvert_exporter": "python",
   "pygments_lexer": "ipython3",
   "version": "3.5.2"
  }
 },
 "nbformat": 4,
 "nbformat_minor": 2
}
