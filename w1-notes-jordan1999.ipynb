{
 "cells": [
  {
   "cell_type": "markdown",
   "metadata": {},
   "source": [
    "# Notes on Jordan 1999\n",
    "\n",
    "## Junction tree algorithm\n",
    "\n",
    "Moralization: transforming directed into undirected graphical model.\n",
    "\n",
    "Procedure: marry parents of linked children.\n",
    "\n",
    "Triangulation: transform all cycles to 3-cycles.\n",
    "\n",
    "\"Given that neural networks with dozens or even hundreds of hidden units are commonplace\" -- the good ol' days.\n",
    "\n",
    "## Variational methodology\n",
    "\n",
    "Applied to FEM: Bathe (1996).\n",
    "\n",
    "Looks like Legendre transformations -- stat mech.\n",
    "\n",
    "Upper bound transformation of logistic function. Info is in the appendix.\n",
    "\n",
    "### Convex duality\n",
    "\n",
    "If $f(x)$ is convex, then:\n",
    "\n",
    "$$f(x) = \\min_\\lambda {\\lambda^Tx-f^*(\\lambda)}$$\n",
    "\n",
    "Where:\n",
    "\n",
    "$$f^*(\\lambda) = \\min_x{\\lambda^Tx-f(x)}$$\n",
    "\n",
    "## Sequential vs. block method\n",
    "\n",
    "Block method looks like modern VI - assume factorization properties, introduce slack variables, turn the crank in an EM fashion. The sequential method is a bit different, in that the graph appears to change at every iteration.\n",
    "\n",
    "Intriguing: they use lots of different types of bounds: not just the ELBO, but lower and upper bounds on different parts of the function (e.g. bounding a logistic by an exponential, etc.). \n",
    "\n",
    "The applications are interesting -- modeling Bach with a hierarchical HMM:\n",
    "\n",
    "https://archive.ics.uci.edu/ml/datasets/Bach+Chorales\n",
    "\n",
    "## Implementations of VI\n",
    "\n",
    "  * Edward 1: no longer developed\n",
    "  * Edward 2: not yet fully implemented\n",
    "  * Tensorflow probability: piece together your own. BBVI. Examples in the repo. "
   ]
  }
 ],
 "metadata": {
  "kernelspec": {
   "display_name": "Python 3",
   "language": "python",
   "name": "python3"
  },
  "language_info": {
   "codemirror_mode": {
    "name": "ipython",
    "version": 3
   },
   "file_extension": ".py",
   "mimetype": "text/x-python",
   "name": "python",
   "nbconvert_exporter": "python",
   "pygments_lexer": "ipython3",
   "version": "3.5.2"
  }
 },
 "nbformat": 4,
 "nbformat_minor": 2
}
