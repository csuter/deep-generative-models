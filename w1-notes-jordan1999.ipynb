{
 "cells": [
  {
   "cell_type": "markdown",
   "metadata": {},
   "source": [
    "# Notes on Jordan 1999\n",
    "\n",
    "## Junction tree algorithm\n",
    "\n",
    "Moralization: transforming directed into undirected graphical model.\n",
    "\n",
    "Procedure: marry parents of linked children.\n",
    "\n",
    "Triangulation: transform all cycles to 3-cycles.\n",
    "\n",
    "\"Given that neural networks with dozens or even hundreds of hidden units are commonplace\" -- the good ol' days.\n",
    "\n",
    "## Variational methodology\n",
    "\n",
    "Applied to FEM: Bathe (1996).\n",
    "\n",
    "Looks like Legendre transformations -- stat mech.\n",
    "\n",
    "Upper bound transformation of logistic function.\n",
    "\n",
    "### Convex duality\n",
    "\n",
    "If $f(x)$ is convex, then:\n",
    "\n",
    "$$f(x) = \\min_\\lambda {\\lambda^Tx-f^*(\\lambda)}$$\n",
    "\n",
    "Where:\n",
    "\n",
    "$$f^*(\\lambda) = \\min_x{\\lambda^Tx-f(x)}$$\n",
    "\n",
    "## Sequential approach"
   ]
  }
 ],
 "metadata": {
  "kernelspec": {
   "display_name": "Python 3",
   "language": "python",
   "name": "python3"
  },
  "language_info": {
   "codemirror_mode": {
    "name": "ipython",
    "version": 3
   },
   "file_extension": ".py",
   "mimetype": "text/x-python",
   "name": "python",
   "nbconvert_exporter": "python",
   "pygments_lexer": "ipython3",
   "version": "3.5.2"
  }
 },
 "nbformat": 4,
 "nbformat_minor": 2
}
